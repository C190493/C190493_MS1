{
  "cells": [
    {
      "metadata": {
        "collapsed": true
      },
      "cell_type": "markdown",
      "source": "## 数理統計学(2019)　課題1\n\n### このnotebookには、いくつかの課題が記載されています。\n### 先頭から順番に、指示に従ってPython Codeをcellに記述してください。\n### codeを記述するcellは、各自適切に生成してください。\n\n### 課題提出方法\n#### 各自のGitHubに、学籍番号_MS1（たとえば、C180001_MS1)という名称のrepositoryを作成してください。\n#### このnotebookを各自のGitHubのリポジトリ（学籍番号_MS1)へコピーしてください。\n#### 各自のGitHubのリポジトリをoffice 365のメールアカウントを使用して、sugimura@ccg.ac.jpへ送信してください。メールの件名は、学籍番号_MS1としてください。\n##### 【重要】指定された方法で課題を提出することも課題に含まれています。"
    },
    {
      "metadata": {},
      "cell_type": "markdown",
      "source": "#### 第1問：Pythonにおいて数値計算を行うためのモジュルnumpyをインポートし、numpy数値計算ライブラリを利用できるように設定してください。"
    },
    {
      "metadata": {
        "trusted": true
      },
      "cell_type": "code",
      "source": "import numpy",
      "execution_count": 1,
      "outputs": []
    },
    {
      "metadata": {},
      "cell_type": "markdown",
      "source": "#### 第2問：numpyのメソッドnumpy.random.normal(avg, std, n)は、平均がavg、標準偏差がstdである正規分布に従う乱数をn個発生させることができます。このメソッドを使用して、平均=60、標準偏差=15、個数=50である乱数からなるリストA1を発生させ、画面に表示させてください。\n"
    },
    {
      "metadata": {
        "trusted": true
      },
      "cell_type": "code",
      "source": "A1 = list(numpy.random.normal(60, 15, 50))\nA1",
      "execution_count": 2,
      "outputs": [
        {
          "output_type": "execute_result",
          "execution_count": 2,
          "data": {
            "text/plain": "[56.432004730507074,\n 100.8072237777994,\n 73.22285056693214,\n 81.51359953349623,\n 72.5341427317839,\n 91.47756470902259,\n 56.33576742612399,\n 38.71017394242729,\n 43.79004312003441,\n 55.51372663086386,\n 43.770137666495074,\n 72.11493547473766,\n 38.930904937900735,\n 26.65305379794068,\n 59.57940389957447,\n 71.24204486312036,\n 31.95807169347367,\n 80.47537150110243,\n 67.80527862214191,\n 73.26128680012725,\n 88.41233867850826,\n 48.79600915964112,\n 53.779364821072484,\n 73.92908974597825,\n 68.713576609077,\n 39.43995743465511,\n 38.665021054076064,\n 53.42611101622662,\n 61.25866429108252,\n 48.393550218503776,\n 51.528247653212674,\n 28.33910013765714,\n 54.1593703864537,\n 48.95338567151906,\n 50.592383819848386,\n 64.45517943934632,\n 38.5097432928541,\n 48.8059540552335,\n 60.818136563407315,\n 50.50045427590763,\n 95.76387462563707,\n 58.70677065925029,\n 38.99445109393507,\n 49.64366807284294,\n 64.12499906411158,\n 55.00897303729817,\n 70.1217886264856,\n 39.500273884348765,\n 62.86760660590133,\n 66.42496456924732]"
          },
          "metadata": {}
        }
      ]
    },
    {
      "metadata": {},
      "cell_type": "markdown",
      "source": "#### 第3問：第2問で発生させた乱数を整数に変換して、50個の整数のリストA2を発生させ、画面に表示させてください。\n#### Pythonのint関数は、データを整数へ変換することができます。xが実数であるとき、int(x)は、xを丸めた整数型の数値を返します。\n#### なお、リスト内包表記を用いると、コードを簡単化することができます。"
    },
    {
      "metadata": {
        "trusted": true
      },
      "cell_type": "code",
      "source": "A2 = [int(x) for x in A1]\nA2",
      "execution_count": 3,
      "outputs": [
        {
          "output_type": "execute_result",
          "execution_count": 3,
          "data": {
            "text/plain": "[56,\n 100,\n 73,\n 81,\n 72,\n 91,\n 56,\n 38,\n 43,\n 55,\n 43,\n 72,\n 38,\n 26,\n 59,\n 71,\n 31,\n 80,\n 67,\n 73,\n 88,\n 48,\n 53,\n 73,\n 68,\n 39,\n 38,\n 53,\n 61,\n 48,\n 51,\n 28,\n 54,\n 48,\n 50,\n 64,\n 38,\n 48,\n 60,\n 50,\n 95,\n 58,\n 38,\n 49,\n 64,\n 55,\n 70,\n 39,\n 62,\n 66]"
          },
          "metadata": {}
        }
      ]
    },
    {
      "metadata": {},
      "cell_type": "markdown",
      "source": "#### 第3問：以下の整数型リストB1の要素の平均値を計算して、画面に表示させてください。\n\n##### なお、平均値は、\n\n$$平均値　= \\frac{リスト中の要素の合計}{リスト中の要素の個数}$$\n\n##### によって計算してください。\n\nB1 = [80, 84, 41, 58, 87, 75, 61, 103, 52, 86, 91, 58, 53, 40, 56, 55, 57, 43, 60, 61, 61, 46, 99, 48, 58, \n      72, 52, 75, 71, 60, 54, 60, 64, 38, 56, 57, 78, 55, 53, 28, 67, 86, 75, 73, 82, 86, 65, 26, 59, 24]"
    },
    {
      "metadata": {
        "trusted": true
      },
      "cell_type": "code",
      "source": "B1 = [80, 84, 41, 58, 87, 75, 61, 103, 52, 86, 91, 58, 53, 40, 56, 55, 57, 43, 60, 61, 61, 46, 99, 48, 58, \n      72, 52, 75, 71, 60, 54, 60, 64, 38, 56, 57, 78, 55, 53, 28, 67, 86, 75, 73, 82, 86, 65, 26, 59, 24]\n\navg = sum(B1) / len(B1)\navg",
      "execution_count": 4,
      "outputs": [
        {
          "output_type": "execute_result",
          "execution_count": 4,
          "data": {
            "text/plain": "62.58"
          },
          "metadata": {}
        }
      ]
    },
    {
      "metadata": {},
      "cell_type": "markdown",
      "source": "#### 第4問：整数型リストB1の要素の中の最大値を求めるコードを記述し、max(B1)の結果と一致することを確認してください。"
    },
    {
      "metadata": {
        "trusted": true
      },
      "cell_type": "code",
      "source": "def my_max(list):\n    max = list[0]\n    for num in list[1: ]:\n        if num > max:\n            max = num\n    return max\n\nmaximum = max(B1)\nmy_maximum = my_max(B1)\n\nmaximum == my_maximum",
      "execution_count": 5,
      "outputs": [
        {
          "output_type": "execute_result",
          "execution_count": 5,
          "data": {
            "text/plain": "True"
          },
          "metadata": {}
        }
      ]
    }
  ],
  "metadata": {
    "kernelspec": {
      "name": "python36",
      "display_name": "Python 3.6",
      "language": "python"
    },
    "language_info": {
      "mimetype": "text/x-python",
      "nbconvert_exporter": "python",
      "name": "python",
      "pygments_lexer": "ipython3",
      "version": "3.6.6",
      "file_extension": ".py",
      "codemirror_mode": {
        "version": 3,
        "name": "ipython"
      }
    }
  },
  "nbformat": 4,
  "nbformat_minor": 2
}